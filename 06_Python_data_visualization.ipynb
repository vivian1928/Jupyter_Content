{
 "cells": [
  {
   "cell_type": "markdown",
   "metadata": {},
   "source": [
    "# Data visualization with Python (plus some odds and ends)\n",
    "\n",
    "In this notebook, we'll take a closer look at data visualization in Python. First, though, I want to cover a few important odds and ends that we either haven't discused yet or that we haven't discused much.\n",
    "\n",
    "\n",
    "## Writing good code: Two suggestions\n",
    "\n",
    "Although we don't often think of them as similar, a computer program does have some things in common with a paragraph, an essay, or a book.  Programming languages and natural languages all afford authors a great deal of creativity in choosing how to express their ideas.  And, languages of both types make it easy for authors to write poorly.  \"Correct\" writing, that is, writing that is syntactically and semantically correct, is only part of writing well.  Think for a moment about books or essays you've read.  What makes writing good?  What makes it bad?\n",
    "\n",
    "A well-written computer program should be easy to read and understand.  There is much more to high-quality software than just readibility (software engineering is an entire field of study, after all), but readibility is a good place to start.  I'll likely discuss other principles of good software design and development later in the semester, but for now, let's think about how to write code that other people can read.  If nothing else, your future self will thank you.\n",
    "\n",
    "### 1. Use comments: tell the reader what your code does and how it works"
   ]
  },
  {
   "cell_type": "code",
   "execution_count": null,
   "metadata": {},
   "outputs": [],
   "source": [
    "def is_palindrome_v1(text):\n",
    "    if len(text) < 1:\n",
    "        return False\n",
    "    \n",
    "    for i1 in range(len(text) // 2):\n",
    "        i2 = len(text) - i1 - 1\n",
    "        if text[i1] != text[i2]:\n",
    "            return False\n",
    "    \n",
    "    return True\n",
    "\n",
    "def is_palindrome_v2(text):\n",
    "    if len(text) < 1:\n",
    "        return False\n",
    "    elif len(text) == 1:\n",
    "        return True\n",
    "    \n",
    "    half_len = len(text) // 2\n",
    "    first_half = text[:half_len]\n",
    "    second_half = text[len(text) - half_len:]\n",
    "    second_half = second_half[::-1]\n",
    "    \n",
    "    return first_half == second_half\n"
   ]
  },
  {
   "cell_type": "code",
   "execution_count": null,
   "metadata": {},
   "outputs": [],
   "source": []
  },
  {
   "cell_type": "markdown",
   "metadata": {},
   "source": [
    "### 2. Write self-documenting code"
   ]
  },
  {
   "cell_type": "code",
   "execution_count": null,
   "metadata": {},
   "outputs": [],
   "source": []
  },
  {
   "cell_type": "code",
   "execution_count": null,
   "metadata": {},
   "outputs": [],
   "source": []
  },
  {
   "cell_type": "markdown",
   "metadata": {},
   "source": [
    "## Arithmetic with numpy arrays\n"
   ]
  },
  {
   "cell_type": "markdown",
   "metadata": {},
   "source": [
    "The important point I want to emphasize here is that arithmetic operations on numpy arrays are implemented _element-wise_.  This allows you take advantage of the speed of numpy's low-level array method implementations.  It also allows you to express operations on vectors and matrices very concisely, which is, as we'll see soon, quite handy."
   ]
  },
  {
   "cell_type": "code",
   "execution_count": null,
   "metadata": {},
   "outputs": [],
   "source": [
    "import numpy as np\n",
    "\n",
    "a = np.arange(1, 11)\n",
    "b = np.arange(10, 0, -1)"
   ]
  },
  {
   "cell_type": "code",
   "execution_count": null,
   "metadata": {},
   "outputs": [],
   "source": []
  },
  {
   "cell_type": "code",
   "execution_count": null,
   "metadata": {},
   "outputs": [],
   "source": []
  },
  {
   "cell_type": "code",
   "execution_count": null,
   "metadata": {},
   "outputs": [],
   "source": []
  },
  {
   "cell_type": "code",
   "execution_count": null,
   "metadata": {},
   "outputs": [],
   "source": []
  },
  {
   "cell_type": "code",
   "execution_count": null,
   "metadata": {},
   "outputs": [],
   "source": []
  },
  {
   "cell_type": "markdown",
   "metadata": {},
   "source": [
    "## Visualizing data with plotnine\n",
    "\n",
    "### 1. Overview"
   ]
  },
  {
   "cell_type": "markdown",
   "metadata": {},
   "source": [
    "There are _many_ Python libraries for visualizing data. Seriously. Take a look at this graphic by Jake VanderPlas that maps out Python data visualization libraries (from [PyCon 2017](https://speakerdeck.com/jakevdp/pythons-visualization-landscape-pycon-2017))! (And it doesn't even include the library I'll be showing you!) <img alt=\"Python visualization landscape\" src=\"images/Python_data_vis_landscape_VanderPlas.png\" width=700px />"
   ]
  },
  {
   "cell_type": "markdown",
   "metadata": {},
   "source": [
    "As you can see, you have _a lot_ of options.  Honestly, we don't care too much which library you use to visualize your data. If you've already learned another library (matplotlib and seaborn are popular), feel free to continue using it.\n",
    "\n",
    "That said, you do have to choose _something_, so I'm going to show you [plotnine](https://plotnine.readthedocs.io/en/stable/index.html), which is currently my favorite Python data visualization library.  It provides a very intuitive approach to building plots that is outstanding for both rapid data exploration and producing publication-quality graphics.  Plotnine is based on [ggplot2](https://ggplot2.tidyverse.org/) and the [Grammar of Graphics](https://amzn.to/2ef1eWp).  If you've already learned ggplot2 in R, you should be able to use plotnine immediately.\n",
    "\n",
    "Before we get to plotting, let's get some data to work with."
   ]
  },
  {
   "cell_type": "code",
   "execution_count": null,
   "metadata": {},
   "outputs": [],
   "source": [
    "import pandas as pd\n",
    "\n",
    "df = pd.read_csv('data/atlantic_storms.csv')\n",
    "\n",
    "# Let's make things easy on ourselves and drop observations with no pressure data.\n",
    "df = df.dropna(subset=['press'])"
   ]
  },
  {
   "cell_type": "code",
   "execution_count": null,
   "metadata": {},
   "outputs": [],
   "source": [
    "df"
   ]
  },
  {
   "cell_type": "markdown",
   "metadata": {},
   "source": [
    "These data provide detailed information for Atlantic basin tropical storms, going all the way back to 1851.  I extracted these data from NOAA's raw storm track data available at [https://www.aoml.noaa.gov/hrd/hurdat/Data_Storm.html](https://www.aoml.noaa.gov/hrd/hurdat/Data_Storm.html)."
   ]
  },
  {
   "cell_type": "markdown",
   "metadata": {},
   "source": [
    "### 2. Introduction to plotnine\n",
    "\n",
    "The basic idea behing plotnine (and ggplot2), is that any data visualization can be broken up into three main components:\n",
    "\n",
    "* The *data* that are used to generate the plot.\n",
    "* Mappings of data variables to *aesthetic* components of the plot.\n",
    "* The *geometric objects* that are used to actually display the data.\n",
    "\n",
    "In plotnine, we build graphs by specifying each of these components.\n",
    "\n",
    "Let's look at an example."
   ]
  },
  {
   "cell_type": "code",
   "execution_count": null,
   "metadata": {},
   "outputs": [],
   "source": []
  },
  {
   "cell_type": "code",
   "execution_count": null,
   "metadata": {},
   "outputs": [],
   "source": []
  },
  {
   "cell_type": "markdown",
   "metadata": {},
   "source": [
    "### 3. Aesthetics\n",
    "\n",
    "[According to the creator of ggplot2](https://r4ds.had.co.nz/data-visualisation.html), a plot _aesthetic_ is \"a visual property of the objects in your plot.\"\n",
    "\n",
    "The aesthetics that you are likely to use most often include:\n",
    "* `x`\n",
    "* `y`\n",
    "* `alpha`\n",
    "* `color`\n",
    "* `fill`\n",
    "* `linetype`\n",
    "* `shape`\n",
    "* `size`\n",
    "\n",
    "Let's give some of these a try."
   ]
  },
  {
   "cell_type": "code",
   "execution_count": null,
   "metadata": {},
   "outputs": [],
   "source": []
  },
  {
   "cell_type": "markdown",
   "metadata": {},
   "source": [
    "**Sidenote: Facets.**  Aesthetics are one way to add information about a categorical variable to a plot.  Another is to use facets, which create subplots for each value of a categorical variable."
   ]
  },
  {
   "cell_type": "code",
   "execution_count": null,
   "metadata": {},
   "outputs": [],
   "source": []
  },
  {
   "cell_type": "markdown",
   "metadata": {},
   "source": [
    "**Challenge 1:** Create a graph that illustrates the intensity of Atlantic basin tropical cyclones over time. Include information about the type of each storm."
   ]
  },
  {
   "cell_type": "code",
   "execution_count": null,
   "metadata": {},
   "outputs": [],
   "source": []
  },
  {
   "cell_type": "markdown",
   "metadata": {},
   "source": [
    "### 4. Geometric objects\n",
    "\n",
    "In plotnine, `geom_*()` functions define the geometric objects that are used to display data.  We've already been using `geom_point()`.  Plotnine includes a very large number of these \"geoms\"; we will only look at a few of them here.\n",
    "\n",
    "`geom_histogram()` visualizes the distribution of a variable."
   ]
  },
  {
   "cell_type": "code",
   "execution_count": null,
   "metadata": {},
   "outputs": [],
   "source": []
  },
  {
   "cell_type": "markdown",
   "metadata": {},
   "source": [
    "We can examine count information using `geom_bar()`."
   ]
  },
  {
   "cell_type": "code",
   "execution_count": null,
   "metadata": {},
   "outputs": [],
   "source": []
  },
  {
   "cell_type": "markdown",
   "metadata": {},
   "source": [
    "Box plots (`geom_boxplot()`) and violin plots (`geom_violin()`) are useful for visualizing the distributions of one variable by categories of another."
   ]
  },
  {
   "cell_type": "code",
   "execution_count": null,
   "metadata": {},
   "outputs": [],
   "source": []
  },
  {
   "cell_type": "markdown",
   "metadata": {},
   "source": [
    "`geom_smooth()` generates approximate trendlines."
   ]
  },
  {
   "cell_type": "code",
   "execution_count": null,
   "metadata": {},
   "outputs": [],
   "source": []
  },
  {
   "cell_type": "markdown",
   "metadata": {},
   "source": [
    "There are many, many more \"geoms\" supported by plotnine.  You can read about them all in the [plotnine documentation](https://plotnine.readthedocs.io/en/stable/api.html#geoms)."
   ]
  },
  {
   "cell_type": "markdown",
   "metadata": {},
   "source": [
    "### 5. Combining plot components\n",
    "\n",
    "One of the most powerful features of plotnine is its additive syntax.  This makes it easy to build complex graphics in layers by adding one component at a time to a base plot.\n",
    "\n",
    "As an example, let's return to the trendline plot we just created.  It would be nice to also add the actual data points to this plot, and that is very easy to do with plotnine."
   ]
  },
  {
   "cell_type": "code",
   "execution_count": null,
   "metadata": {},
   "outputs": [],
   "source": []
  },
  {
   "cell_type": "markdown",
   "metadata": {},
   "source": [
    "The additive syntax also allows us to customize other components of a graphic."
   ]
  },
  {
   "cell_type": "code",
   "execution_count": null,
   "metadata": {},
   "outputs": [],
   "source": []
  },
  {
   "cell_type": "markdown",
   "metadata": {},
   "source": [
    "**Challenge 2:** Create a visualization exploring some question about the cyclone data.  Here are some suggestions: Has the storm season shifted in time over the years (i.e., is the storm season earlier or later now than in the past)?  Are storm types distributed evenly across a storm season?"
   ]
  },
  {
   "cell_type": "code",
   "execution_count": null,
   "metadata": {},
   "outputs": [],
   "source": []
  },
  {
   "cell_type": "markdown",
   "metadata": {},
   "source": [
    "### 6. Conclusions\n",
    "\n",
    "I hope you will find the ggplot2/plotnine style of creating data visualizations to be an intuitive and efficient means of exploring data.  We have covered the basic concepts behind plotnine, but we've only seen a glimpse of what it can do.  The [plotnine API reference](https://plotnine.readthedocs.io/en/stable/api.html) provides full documentation for all of plotnine's functionality.  If you'd like a more thorough introduction to the capabilities of plotnine/ggplot2, I highly recommend reading [this book chapter](https://r4ds.had.co.nz/data-visualisation.html) co-written by Hadley Wickham, the creator of ggplot2.  I should also note that while I will use plotnine for most of the examples I show in class, it is not the best choice for _every_ kind of data visualization, so I will occasionally use other plotting libraries, too."
   ]
  }
 ],
 "metadata": {
  "kernelspec": {
   "display_name": "Python 3 (ipykernel)",
   "language": "python",
   "name": "python3"
  },
  "language_info": {
   "codemirror_mode": {
    "name": "ipython",
    "version": 3
   },
   "file_extension": ".py",
   "mimetype": "text/x-python",
   "name": "python",
   "nbconvert_exporter": "python",
   "pygments_lexer": "ipython3",
   "version": "3.8.1"
  }
 },
 "nbformat": 4,
 "nbformat_minor": 4
}
