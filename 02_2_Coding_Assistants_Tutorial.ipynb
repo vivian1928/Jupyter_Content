{
 "cells": [
  {
   "attachments": {},
   "cell_type": "markdown",
   "id": "9743c28a",
   "metadata": {},
   "source": [
    "\n",
    "<div class=\"alert alert-block alert-danger\">\n",
    "<b>Check the Kernel you are using:</b> Before we get started, if you are running this on HiPerGator, double check the kernel in use. This is shown in the top right of the window and should look like: <img src=\"images/kernel.python310.png\" alt\"Image showing that the notebook is using the Python 3.10 kernel\" style=\"float:right\">\n",
    "</div>"
   ]
  },
  {
   "attachments": {},
   "cell_type": "markdown",
   "id": "34e9e558",
   "metadata": {},
   "source": [
    "This notebook has placeholders for code to be netered during class. If you want the complete version, you can download it from our [GitHub repository](https://github.com/AIBiology/Jupyter_Content/)."
   ]
  },
  {
   "attachments": {},
   "cell_type": "markdown",
   "id": "ff30b514",
   "metadata": {},
   "source": [
    "\n",
    "# Effectively Using Coding Assistants\n",
    "\n",
    "Welcome to our live coding tutorial focused on effectively using coding assistants for data analysis. \n",
    "Today, we will be working with Python and a coding assistant to explore and analyze the seaborn 'penguins' dataset.\n"
   ]
  },
  {
   "attachments": {},
   "cell_type": "markdown",
   "id": "670f82f4",
   "metadata": {},
   "source": [
    "\n",
    "## Step 1: Importing Libraries and Loading Data\n",
    "\n",
    "We start by importing the necessary libraries and loading our dataset. Here, we're using Seaborn to import the 'penguins' dataset.\n"
   ]
  },
  {
   "cell_type": "code",
   "execution_count": null,
   "id": "81b5d51a",
   "metadata": {},
   "outputs": [],
   "source": [
    "# Import seaborn and the penguins dataset"
   ]
  },
  {
   "attachments": {},
   "cell_type": "markdown",
   "id": "a5922704",
   "metadata": {},
   "source": [
    "\n",
    "## Step 2: Basic Data Exploration\n",
    "\n",
    "1) __Understanding the Dataset__: The Penguins dataset in Seaborn includes various measurements like bill length, bill depth, flipper length, body mass, and species of penguins. Knowing the dataset thoroughly is crucial.\n",
    "\n",
    "2) __Appropriate Plot Types__: Plotting is often a useful way to explore a dataset. Different data types and research questions require different types of plots. For example, if you want to compare the bill lengths across different species, a boxplot might be appropriate. However, if you want to understand the relationship between bill length and flipper length, a scatter plot would be more suitable.\n",
    "\n",
    "3) __Coding Assistants' Role__: A coding assistant can help generate code for exploring the data, but the user must guide it with the right type of plot and/or analysis. For instance, specifying \"create a scatter plot of bill length vs. flipper length for each species\" will yield a more useful result than a vague request like \"plot data from the Penguins dataset\".\n",
    "\n",
    "4) __Customization and Refinement__: Coding assistants are iterative. Iterate. Iterate. Iterate.\n",
    "\n",
    "5) __Data Interpretation__: Finally, while a coding assistant can help with data analysis, interpreting those visuals/values accurately is solely the user's responsibility. Understanding what the data is saying and whether it answers the research question correctly is key.\n",
    "\n",
    "With that in mind, let's look at the first few rows of our dataset to understand its structure and contents.\n"
   ]
  },
  {
   "cell_type": "code",
   "execution_count": null,
   "id": "24e28f2f",
   "metadata": {},
   "outputs": [],
   "source": [
    "# Print a few rows of the dataset"
   ]
  },
  {
   "attachments": {},
   "cell_type": "markdown",
   "id": "76af5ede",
   "metadata": {},
   "source": [
    "Now let's look at the summary statistics of our dataset."
   ]
  },
  {
   "cell_type": "code",
   "execution_count": null,
   "id": "4b377fd5",
   "metadata": {},
   "outputs": [],
   "source": [
    "# Create a table of summary statistics for the dataset"
   ]
  },
  {
   "attachments": {},
   "cell_type": "markdown",
   "id": "f43e7142",
   "metadata": {},
   "source": [
    "And finally, let's look at whether missing values exist in our dataset."
   ]
  },
  {
   "cell_type": "code",
   "execution_count": null,
   "id": "59ff1a26",
   "metadata": {},
   "outputs": [],
   "source": [
    "# Look at whether there are missing values in the dataset"
   ]
  },
  {
   "attachments": {},
   "cell_type": "markdown",
   "id": "f6c716fa",
   "metadata": {},
   "source": [
    "\n",
    "## Step 3: Data Visualization\n",
    "\n",
    "__Objective__: Now let's say that we want to illustrate the differences in bill length among different penguin species, but you are not sure how to do that. Let's use a coding assistant to help us."
   ]
  },
  {
   "cell_type": "code",
   "execution_count": null,
   "id": "f4f20de3",
   "metadata": {},
   "outputs": [],
   "source": [
    "# Unhelpful version\n",
    "# How can I plot the data on the seaborn penguin dataset? \n",
    "\n",
    "# Output:\n"
   ]
  },
  {
   "cell_type": "code",
   "execution_count": null,
   "id": "144e4790",
   "metadata": {},
   "outputs": [],
   "source": [
    "# Slightly more helpful version\n",
    "# Rephrase the question by identifying plot type and the variable of interest\n",
    "\n",
    "\n",
    "# Output:\n"
   ]
  },
  {
   "cell_type": "code",
   "execution_count": null,
   "id": "54652b78",
   "metadata": {},
   "outputs": [],
   "source": [
    "# Ideal query\n",
    "# Try addressing the following aspects of the data:\n",
    "# 1_ Datasets and variables\n",
    "# 2_ Plot type\n",
    "# 3_ Objective of the plot\n",
    "# 4_ Additional plot aesthetics\n",
    "# 5_ Request for explanation\n",
    "\n",
    "# Output:\n"
   ]
  },
  {
   "attachments": {},
   "cell_type": "markdown",
   "id": "f3b40670",
   "metadata": {},
   "source": [
    "__Why This Works__: \n",
    " - Dataset and Variables Specified: Penguins dataset, focusing on species and flipper length.\n",
    " - Plot Type Defined: Box plot.\n",
    " - Objective Stated: Comparing bill lengths among species.\n",
    " - Specific Requirements: Clear labeling, handling missing values.\n",
    " - Request for Explanation: Comments in code.\n",
    "\n",
    "Providing a well-structured and detailed query like this helps the code assistant understand exactly what you need, increasing the chances of getting the correct and most useful plot on the first attempt."
   ]
  },
  {
   "attachments": {},
   "cell_type": "markdown",
   "id": "6a5d7a7c",
   "metadata": {},
   "source": [
    "## Step 4: Statistical Analysis\n",
    "__Objective__: To perform a linear regression analysis to explore the relationship between flipper length (flipper_length_mm) and body mass (body_mass_g) of the penguins.\n"
   ]
  },
  {
   "cell_type": "code",
   "execution_count": null,
   "id": "40733bdb",
   "metadata": {},
   "outputs": [],
   "source": [
    "# OUTPUT:\n"
   ]
  },
  {
   "attachments": {},
   "cell_type": "markdown",
   "id": "ee582115",
   "metadata": {},
   "source": [
    "## Step 5 : Machine Learning\n",
    "__Objective__: To build a logistic regression model that predicts the species of penguins based on their flipper length (flipper_length_mm) and body mass (body_mass_g). Use sklearn to build the model and evaluate its performance.\n",
    "\n"
   ]
  },
  {
   "cell_type": "code",
   "execution_count": null,
   "id": "9f5b3298",
   "metadata": {},
   "outputs": [],
   "source": [
    "# OUTPUT:\n"
   ]
  },
  {
   "attachments": {},
   "cell_type": "markdown",
   "id": "d1652daa",
   "metadata": {},
   "source": [
    "1. __Model Performance by Species:__\n",
    " - __Adelie Penguins:__ High precision (0.77) and recall (0.94), resulting in a good F1-score (0.85). This suggests the model is quite effective in identifying Adelie penguins, with a strong ability to correctly label true Adelie cases and a high likelihood of correctly predicting an Adelie penguin.\n",
    " - __Chinstrap Penguins:__ Lower precision (0.67) and significantly lower recall (0.22), with a low F1-score (0.33). This indicates the model struggles with Chinstrap penguins, particularly in correctly identifying true Chinstrap cases.\n",
    " - __Gentoo Penguins:__ Excellent precision (0.97) and recall (1.00), leading to an outstanding F1-score (0.99). The model is highly accurate in identifying Gentoo penguins, with both high correct prediction rate and successful identification of true Gentoo cases.\n",
    "\n",
    "2. __Overall Model Accuracy:__\n",
    " - The model achieves an overall accuracy of 0.83. This means it correctly predicts the species 83% of the time across the dataset.\n",
    "\n",
    "3. __Macro vs. Weighted Average:__\n",
    " - __Macro Average:__ Averages the metric scores across classes without considering class imbalance (0.80 for precision, 0.72 for recall, and 0.72 for F1-score). The lower recall and F1-score in macro average indicate that the model's performance is not uniformly high across all species.\n",
    " - __Weighted Average:__ Accounts for class imbalance by weighting the metric scores by the number of true instances in each class (0.82 for precision, 0.83 for recall, and 0.80 for F1-score). The higher scores in weighted average suggest that the model performs better on the more prevalent classes.\n",
    "\n",
    "4. __Implications for the Dataset and Model:__\n",
    " - __Class Imbalance:__ The results might indicate a class imbalance, with fewer examples of Chinstrap penguins compared to Adelie and Gentoo. This can affect the model's ability to learn effectively for underrepresented classes.\n",
    " - __Feature Effectiveness:__ The features used (flipper length and body mass) are generally effective in species classification, especially for Adelie and Gentoo penguins.\n",
    " - __Potential for Improvement:__ For better performance, particularly for Chinstrap penguins, one might consider additional or different features, resampling techniques to address class imbalance, or a different model algorithm.\n"
   ]
  },
  {
   "attachments": {},
   "cell_type": "markdown",
   "id": "57840812",
   "metadata": {},
   "source": [
    "\n",
    "## Step 6: Debugging\n",
    "\n",
    "Code assistants can aid in debugging in several ways:\n",
    "\n",
    " - __Identifying Syntax Errors:__ They can quickly spot and correct syntax errors in the code.\n",
    " - __Logical Error Detection:__ They can help in identifying logical errors by comparing the intended output (as described in the query) with the actual output.\n",
    " - __Suggestions for Code Improvement:__ Based on the query, code assistants can suggest more efficient or appropriate methods to achieve the desired result.\n",
    " - __Interactive Problem-Solving:__ By iterating over the user's queries and the assistant's responses, one can progressively refine the code.\n",
    "\n",
    "\n",
    "We'll introduce an error in our code and use the coding assistant to help us identify and fix it. In this code, the column name `flipper_length_mm` is misspelled as `flipper_lenght_mm`. This will likely cause a KeyError or similar error when trying to plot the data.\n"
   ]
  },
  {
   "cell_type": "code",
   "execution_count": null,
   "id": "59d47ed5",
   "metadata": {},
   "outputs": [],
   "source": [
    "import matplotlib.pyplot as plt\n",
    "\n",
    "# Load the Penguins dataset\n",
    "penguins = sns.load_dataset(\"penguins\")\n",
    "\n",
    "# Intentional Error: Misspelling the column name\n",
    "plt.figure(figsize=(8, 6))\n",
    "sns.boxplot(x=\"species\", y=\"flipper_lenght_mm\", data=penguins)  # 'length' is misspelled\n",
    "plt.title(\"Comparison of Flipper Lengths among Penguin Species\")\n",
    "plt.xlabel(\"Species\")\n",
    "plt.ylabel(\"Flipper Length (mm)\")\n",
    "plt.show()"
   ]
  },
  {
   "attachments": {},
   "cell_type": "markdown",
   "id": "b3e15b51",
   "metadata": {},
   "source": [
    "### Seeking Help from a Coding Assistant\n",
    "Now, let's frame a query to the coding assistant to help identify and fix this issue.\n"
   ]
  },
  {
   "cell_type": "code",
   "execution_count": null,
   "id": "18516660",
   "metadata": {},
   "outputs": [],
   "source": [
    "# OUTPUT"
   ]
  },
  {
   "attachments": {},
   "cell_type": "markdown",
   "id": "1c8d597b",
   "metadata": {},
   "source": [
    "\n",
    "## Step 7: Explain this code\n",
    "\n",
    "Ask your code assistant to explain the code above line by line:"
   ]
  },
  {
   "cell_type": "code",
   "execution_count": null,
   "id": "b5abdf39",
   "metadata": {},
   "outputs": [],
   "source": [
    "\n",
    "import matplotlib.pyplot as plt\n",
    "penguins = sns.load_dataset(\"penguins\")\n",
    "plt.figure(figsize=(8, 6))\n",
    "sns.boxplot(x=\"species\", y=\"flipper_length_mm\", data=penguins)  # Correct spelling\n",
    "plt.title(\"Comparison of Flipper Lengths among Penguin Species\")\n",
    "plt.xlabel(\"Species\")\n",
    "plt.ylabel(\"Flipper Length (mm)\")\n",
    "plt.show()\n"
   ]
  },
  {
   "attachments": {},
   "cell_type": "markdown",
   "id": "d04a3b69",
   "metadata": {},
   "source": [
    "How about this one? "
   ]
  },
  {
   "cell_type": "code",
   "execution_count": null,
   "id": "106dd5b4",
   "metadata": {},
   "outputs": [],
   "source": [
    "for x in range(101):print (\"fizz\"[x%3*4::]+\"buzz\"[x%5*4::]or x) \n"
   ]
  },
  {
   "attachments": {},
   "cell_type": "markdown",
   "id": "b896ca0e",
   "metadata": {},
   "source": [
    "## Other uses:\n",
    "- __Documentation:__ They can help you write documentation for your code by providing a description of the function, its parameters, and its return values.\n",
    "- __Refactoring:__ They can help you refactor your code by suggesting more efficient or appropriate methods to achieve the desired result. This can help you write cleaner and more readable code.\n",
    "- __Interactive Problem-Solving:__ By iterating over the user's queries and the assistant's responses, one can progressively refine the code. This can help you solve complex problems by breaking them down into smaller, more manageable tasks.\n"
   ]
  }
 ],
 "metadata": {
  "kernelspec": {
   "display_name": "open3d",
   "language": "python",
   "name": "python3"
  },
  "language_info": {
   "codemirror_mode": {
    "name": "ipython",
    "version": 3
   },
   "file_extension": ".py",
   "mimetype": "text/x-python",
   "name": "python",
   "nbconvert_exporter": "python",
   "pygments_lexer": "ipython3",
   "version": "3.10.12"
  }
 },
 "nbformat": 4,
 "nbformat_minor": 5
}
