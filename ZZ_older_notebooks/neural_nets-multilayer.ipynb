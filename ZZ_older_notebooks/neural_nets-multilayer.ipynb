{
 "cells": [
  {
   "cell_type": "markdown",
   "metadata": {},
   "source": [
    "# Multi-layer neural networks, part 1\n",
    "\n",
    "So far, we've been investigating very simple neural networks that comprise a single neuron.  Today, we'll take our first steps towards deep learning by exploring neural nets with more than one neuron arranged in multiple _layers_."
   ]
  },
  {
   "attachments": {
    "image.png": {
     "image/png": "[encoded data removed]"
    }
   },
   "cell_type": "markdown",
   "metadata": {},
   "source": [
    "## 1. Fitting a reference, single-neuron network.\n",
    "\n",
    "<div>\n",
    "<img src=\"attachment:image.png\" width=\"228\" />\n",
    "</div>\n",
    "\n",
    "We'll begin at what should by now be a familiar starting point: a network with a single neuron that takes a single input.  We'll again fit this model to our fuel efficiency data, modeling the following relationship.\n",
    "\n",
    "$$ \\hat{mpg} = w \\cdot hp + b $$\n",
    "\n",
    "We'll use this model as a reference as we work toward more complicated neural net architectures."
   ]
  },
  {
   "cell_type": "code",
   "execution_count": null,
   "metadata": {},
   "outputs": [],
   "source": [
    "import numpy as np\n",
    "import pandas as pd\n",
    "\n",
    "import plotnine as pn\n",
    "\n",
    "from sklearn.preprocessing import StandardScaler\n",
    "from sklearn.pipeline import Pipeline\n",
    "from sklearn.model_selection import GridSearchCV\n",
    "\n",
    "import torch\n",
    "from torch import nn\n",
    "from skorch import NeuralNetRegressor"
   ]
  },
  {
   "cell_type": "code",
   "execution_count": null,
   "metadata": {},
   "outputs": [],
   "source": [
    "df = pd.read_csv('data/auto_mpg.csv')\n",
    "#df = pd.read_csv('/blue/zoo4926/share/Jupyter_Content/data/auto_mpg.csv')\n",
    "df = df.sample(frac=1)\n"
   ]
  },
  {
   "cell_type": "code",
   "execution_count": null,
   "metadata": {},
   "outputs": [],
   "source": [
    "df"
   ]
  },
  {
   "cell_type": "code",
   "execution_count": null,
   "metadata": {},
   "outputs": [],
   "source": [
    "class SimpleRegressNet(nn.Module):\n",
    "    \"\"\"\n",
    "    Defines a simple neural net with a single neuron that takes a single input.\n",
    "    \"\"\"\n",
    "    def __init__(self):\n",
    "        super().__init__()\n",
    "        \n",
    "        self.neuron = nn.Linear(1, 1)\n",
    "    \n",
    "    def forward(self, X):\n",
    "        y = self.neuron(X)\n",
    "        \n",
    "        return y"
   ]
  },
  {
   "cell_type": "code",
   "execution_count": null,
   "metadata": {},
   "outputs": [],
   "source": [
    "x = df[['hp']].to_numpy(np.float32)\n",
    "y = df[['mpg']].to_numpy(np.float32)\n",
    "\n",
    "# Good hyperparameter values:\n",
    "#  batch_size = N; lr = 0.1, epochs = 40\n",
    "#  batch_size = 32; lr = 0.004, epochs = 200\n",
    "\n",
    "nn_model = NeuralNetRegressor(\n",
    "    SimpleRegressNet,\n",
    "    train_split=None,\n",
    "    batch_size=len(df),\n",
    "    criterion=nn.MSELoss,\n",
    "    optimizer=torch.optim.SGD,\n",
    "    max_epochs=40,\n",
    "    lr=0.1\n",
    ")\n",
    "\n",
    "pl = Pipeline([\n",
    "    ('scaler', StandardScaler()),\n",
    "    ('nn', nn_model)\n",
    "])\n",
    "\n",
    "pl.fit(x, y)"
   ]
  },
  {
   "cell_type": "markdown",
   "metadata": {},
   "source": [
    "**Exercise:** What is the $MSE$ of your simple neural net model?  What is the value of $R^2$ for your model?"
   ]
  },
  {
   "cell_type": "code",
   "execution_count": null,
   "metadata": {},
   "outputs": [],
   "source": []
  },
  {
   "cell_type": "markdown",
   "metadata": {},
   "source": [
    "## 2. Adding more neurons\n",
    "\n",
    "We would like our neural net to be able to do more than simple linear regression.  Let's try adding two more neurons to our network, arranged in two _layers_."
   ]
  },
  {
   "cell_type": "code",
   "execution_count": null,
   "metadata": {},
   "outputs": [],
   "source": []
  },
  {
   "cell_type": "markdown",
   "metadata": {},
   "source": [
    "Now, let's fit our new neural net to the fuel efficiency data."
   ]
  },
  {
   "cell_type": "code",
   "execution_count": null,
   "metadata": {},
   "outputs": [],
   "source": []
  },
  {
   "cell_type": "markdown",
   "metadata": {},
   "source": [
    "**Exercise:** What is the $MSE$ of your multi-layer model?  What is the value of $R^2$ for your model?"
   ]
  },
  {
   "cell_type": "code",
   "execution_count": null,
   "metadata": {},
   "outputs": [],
   "source": []
  },
  {
   "cell_type": "markdown",
   "metadata": {},
   "source": [
    "## 3. Adding transfer functions\n",
    "\n",
    "If we want our neural net to do more, we need to add some more mathematical machinery to our concept of an artificial neuron.  Specifically, we will add _transfer functions_ (often also called _activation functions_, which requires more typing) to modify the outputs of some of the neurons in our network.\n",
    "\n",
    "Let's start by adding the $ReLU()$ transfer function to our network.  We'll also introduce adding _momentum_ to gradient descent."
   ]
  },
  {
   "cell_type": "code",
   "execution_count": null,
   "metadata": {},
   "outputs": [],
   "source": []
  },
  {
   "cell_type": "markdown",
   "metadata": {},
   "source": [
    "**Exercise:** Fit your new neural net to the fuel efficiency data.  What is your final $MSE$?  What is the value of $R^2$ for the model?"
   ]
  },
  {
   "cell_type": "code",
   "execution_count": null,
   "metadata": {},
   "outputs": [],
   "source": []
  },
  {
   "cell_type": "code",
   "execution_count": null,
   "metadata": {},
   "outputs": [],
   "source": []
  },
  {
   "cell_type": "markdown",
   "metadata": {},
   "source": [
    "You might also find it helpful to visualize the loss during training."
   ]
  },
  {
   "cell_type": "code",
   "execution_count": null,
   "metadata": {},
   "outputs": [],
   "source": [
    "tr_df = pd.DataFrame(nn_model.history)\n",
    "\n",
    "pn.ggplot(tr_df, pn.aes(x='epoch', y='train_loss')) + pn.geom_line()# + pn.ylim(15,25)"
   ]
  },
  {
   "cell_type": "markdown",
   "metadata": {},
   "source": [
    "**Exercise:** Let's see what sort of model we ended up with!  Because our neural net has only a single input variable, we can directly graph the model.  We'll work together to write code that generates paired $(x, y)$ values we can use to graph our model.  Once we have that, try visualizing your model."
   ]
  },
  {
   "cell_type": "code",
   "execution_count": null,
   "metadata": {
    "scrolled": false
   },
   "outputs": [],
   "source": []
  },
  {
   "cell_type": "markdown",
   "metadata": {},
   "source": [
    "**Exercise:** We've so far tried using $relu()$ as the transfer function for our network.  What do you predict will happen if we use a different transfer function, such as $tanh()$?  Modify your code to test your prediction!  (Hint: Pytorch functions that might be useful here include `nn.Tanh()` and `nn.Sigmoid()`.)"
   ]
  },
  {
   "cell_type": "markdown",
   "metadata": {},
   "source": [
    "## 4. Choosing hyperparameter values\n",
    "\n",
    "We've previously discussed various strategies for choosing hyperparameters of a model-fitting procedure.  Let's see how we can apply these ideas to a neural network.\n",
    "\n",
    "First, we define the hyperparameter values we want to test."
   ]
  },
  {
   "cell_type": "code",
   "execution_count": null,
   "metadata": {},
   "outputs": [],
   "source": []
  },
  {
   "cell_type": "markdown",
   "metadata": {},
   "source": [
    "Then, we can use scikit-learn's `GridSearchCV` to find the best hyperparameter combinations."
   ]
  },
  {
   "cell_type": "code",
   "execution_count": null,
   "metadata": {},
   "outputs": [],
   "source": []
  },
  {
   "cell_type": "code",
   "execution_count": null,
   "metadata": {},
   "outputs": [],
   "source": []
  },
  {
   "cell_type": "markdown",
   "metadata": {},
   "source": [
    "Please note that this procedure for choosing a learning rate works here because we have a model that we can train quickly.  That will often not be the case.  Furthermore, we know that the learning rate affects how many epochs are required for convergence, but we're not accounting for that in any way.  In practice, you will likely need to use more sophisticated methods to find a good learning rate; the goal here was to take a step in the right direction using tools with which we are already familiar."
   ]
  }
 ],
 "metadata": {
  "kernelspec": {
   "display_name": "Python 3",
   "language": "python",
   "name": "python3"
  },
  "language_info": {
   "codemirror_mode": {
    "name": "ipython",
    "version": 3
   },
   "file_extension": ".py",
   "mimetype": "text/x-python",
   "name": "python",
   "nbconvert_exporter": "python",
   "pygments_lexer": "ipython3",
   "version": "3.6.9"
  }
 },
 "nbformat": 4,
 "nbformat_minor": 4
}
