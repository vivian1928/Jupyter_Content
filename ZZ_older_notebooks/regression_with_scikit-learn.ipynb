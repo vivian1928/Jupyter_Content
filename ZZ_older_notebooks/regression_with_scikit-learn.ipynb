{
 "cells": [
  {
   "cell_type": "markdown",
   "metadata": {},
   "source": [
    "# Linear regression with `scikit-learn`\n",
    "\n",
    "In this notebook, we'll introduce the Python package [`scikit-learn`](https://scikit-learn.org/stable/index.html) by using it to solve the same regression problems we explored \"by hand\" earlier. `scikit-learn` is a versatile Python package for machine learning that implements a large number of machine learning methods (and related stuff).  It's modular interface and design make for rapid implementation and experimentation.  Plus, the documentation for `scikit-learn` is outstanding.\n",
    "\n",
    "We'll start once again by loading the fuel efficiency dataset."
   ]
  },
  {
   "cell_type": "code",
   "execution_count": null,
   "metadata": {},
   "outputs": [],
   "source": [
    "import pandas as pd\n",
    "\n",
    "df = pd.read_csv('data/auto_mpg.csv')\n",
    "#df = pd.read_csv('/blue/zoo4926/share/Jupyter_Content/data/auto_mpg.csv')"
   ]
  },
  {
   "cell_type": "code",
   "execution_count": null,
   "metadata": {},
   "outputs": [],
   "source": []
  },
  {
   "cell_type": "markdown",
   "metadata": {},
   "source": [
    "Let's use scikit-learn to fit a linear regression model to these data.  The [assigned reading from PDSH](https://jakevdp.github.io/PythonDataScienceHandbook/05.02-introducing-scikit-learn.html) explains the design and user interface of scikit-learn in much more detail than I'll cover in this notebook; it is definitely worth reading to get a more complete view and a slightly different perspective (you only need to read up to the \"Simple linear regression\" section).\n",
    "\n",
    "## Basic linear regression\n",
    "\n",
    "### 1. Extract the data for training the model\n",
    "\n",
    "The input ($x$) data need to be arranged as a matrix with each variable in its own column.  The response ($y$) should be a simple vector."
   ]
  },
  {
   "cell_type": "code",
   "execution_count": null,
   "metadata": {},
   "outputs": [],
   "source": []
  },
  {
   "cell_type": "code",
   "execution_count": null,
   "metadata": {},
   "outputs": [],
   "source": []
  },
  {
   "cell_type": "markdown",
   "metadata": {},
   "source": [
    "### 2. Create and fit the regression model\n",
    "\n",
    "In scikit-learn, we first create an instance of whatever model we are using, then call the model's `fit()` method with our $x$ and $y$ data.  In this case, we want to create an instance of [`LinearRegression`](https://scikit-learn.org/stable/modules/generated/sklearn.linear_model.LinearRegression.html#sklearn.linear_model.LinearRegression)."
   ]
  },
  {
   "cell_type": "code",
   "execution_count": null,
   "metadata": {},
   "outputs": [],
   "source": [
    "from sklearn.linear_model import LinearRegression\n"
   ]
  },
  {
   "cell_type": "markdown",
   "metadata": {},
   "source": [
    "Note that you can also instantiate the model and call `fit()` with a single line of code."
   ]
  },
  {
   "cell_type": "code",
   "execution_count": null,
   "metadata": {},
   "outputs": [],
   "source": []
  },
  {
   "cell_type": "markdown",
   "metadata": {},
   "source": [
    "### 3. Inspect the results\n",
    "\n",
    "The estimated regression coefficients are returned in the `intercept_` and `coef_` attributes of the model object."
   ]
  },
  {
   "cell_type": "code",
   "execution_count": null,
   "metadata": {},
   "outputs": [],
   "source": []
  },
  {
   "cell_type": "markdown",
   "metadata": {},
   "source": [
    "Let's graph it, too."
   ]
  },
  {
   "cell_type": "code",
   "execution_count": null,
   "metadata": {},
   "outputs": [],
   "source": [
    "import plotnine as pn\n"
   ]
  },
  {
   "cell_type": "markdown",
   "metadata": {},
   "source": [
    "If you have a background in statistics, you are undoubtedly familiar with using $R^2$, the \"coefficient of determination\", to evaluate linear models.  We can get $R^2$ from our model object by calling the `score()` method with the data we used to train the model."
   ]
  },
  {
   "cell_type": "code",
   "execution_count": null,
   "metadata": {},
   "outputs": [],
   "source": []
  },
  {
   "cell_type": "markdown",
   "metadata": {},
   "source": [
    "## Multiple linear regression\n",
    "\n",
    "Let's duplicate the quadratic function fit that we implemented a few days ago by minimizing the loss function using numerical optimization techniques.  As a reminder, we want to fit this model:\n",
    "\n",
    "$$ \\hat{mpg} = a + b \\cdot hp + c \\cdot hp^2 $$\n",
    "\n",
    "Because each input variable needs to be a separate column in the input ($x$) matrix, we'll need to add a column for $hp^2$."
   ]
  },
  {
   "cell_type": "code",
   "execution_count": null,
   "metadata": {},
   "outputs": [],
   "source": []
  },
  {
   "cell_type": "code",
   "execution_count": null,
   "metadata": {},
   "outputs": [],
   "source": []
  },
  {
   "cell_type": "code",
   "execution_count": null,
   "metadata": {},
   "outputs": [],
   "source": []
  },
  {
   "cell_type": "markdown",
   "metadata": {},
   "source": [
    "To graph this model, we can take advantage of the model object's `predict()` method to generate paired $(x, y)$ values that trace the regression line. We'll need to create a new dataframe with columns that match the columns in our training data. To easily use this method with `plotnine`, be sure the number of paired $(x, y)$ values in the new dataframe matches the number of training data observations."
   ]
  },
  {
   "cell_type": "code",
   "execution_count": null,
   "metadata": {},
   "outputs": [],
   "source": [
    "import numpy as np\n",
    "import pandas as pd\n"
   ]
  },
  {
   "cell_type": "code",
   "execution_count": null,
   "metadata": {},
   "outputs": [],
   "source": []
  },
  {
   "cell_type": "code",
   "execution_count": null,
   "metadata": {},
   "outputs": [],
   "source": []
  },
  {
   "cell_type": "markdown",
   "metadata": {},
   "source": [
    "It does require a bit of work to graph the model, so if it is something you need to do often, you might as well write a function that takes care of the details!\n",
    "\n",
    "Let's take a look at $R^2$ to get a better idea of how well our new model fits."
   ]
  },
  {
   "cell_type": "code",
   "execution_count": null,
   "metadata": {},
   "outputs": [],
   "source": []
  },
  {
   "cell_type": "markdown",
   "metadata": {},
   "source": [
    "We did achieve a modest increase in $R^2$, which suggests the more complicated model fits the data better.  This result corroborates our earlier comparison of $MSE$ values for these two models.\n",
    "\n",
    "## Excercise:\n",
    "\n",
    "Using the tools you've learned so far for data exploration and model fitting, can you find a better linear regression model for predicting an automobile's fuel efficiency ($mpg$) from its other attributes?  For this exercise, you can evaluate the fit of your models using $R^2$."
   ]
  },
  {
   "cell_type": "code",
   "execution_count": null,
   "metadata": {},
   "outputs": [],
   "source": []
  },
  {
   "cell_type": "markdown",
   "metadata": {},
   "source": [
    "## Final thoughts\n",
    "\n",
    "The `scikit-learn` workflow outlined above (get data, create model object, fit model, inspect results) is basically the same across all of scikit-learn's many machine learning methods.  That consistency and ease of use is certainly one of the reasons `scikit-learn` is so popular.\n",
    "\n",
    "I should also note that the method we implemented above for polynomial regression, where we manually created the $hp^2$ column for our input dataframe, becomes rather cumbersome when we're dealing with large numbers of variables and we want to explore transformations of multiple variables or interactions.  As you might expect, `scikit-learn` implements tools to make this easier.  We won't cover the techniques right now, but the idea is to use data \"transformer\" objects to automatically create the extra dataframe columns.  You can [read more about that here](https://scikit-learn.org/stable/modules/linear_model.html#polynomial-regression-extending-linear-models-with-basis-functions)."
   ]
  }
 ],
 "metadata": {
  "kernelspec": {
   "display_name": "Python 3",
   "language": "python",
   "name": "python3"
  },
  "language_info": {
   "codemirror_mode": {
    "name": "ipython",
    "version": 3
   },
   "file_extension": ".py",
   "mimetype": "text/x-python",
   "name": "python",
   "nbconvert_exporter": "python",
   "pygments_lexer": "ipython3",
   "version": "3.8.6"
  }
 },
 "nbformat": 4,
 "nbformat_minor": 4
}
