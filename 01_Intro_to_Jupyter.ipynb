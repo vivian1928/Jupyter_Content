{
 "cells": [
  {
   "cell_type": "markdown",
   "metadata": {},
   "source": [
    "## A Quick intro to Python\n",
    "\n",
    "Before we get too far in Jupyter, let's do a quick review of some Python. We will come back to some of this next week, but especially for those that haven't used Python before, hopefully this helps get you started.\n",
    "\n",
    "### Jupyter cell types\n",
    "\n",
    "Jupyter has two types of cells: code cells that contain Python code that is executed when you press the play button or type `Shift-Enter`, and markdown cells that contain formatted text. You can see the markdown code that makes the text formatting like *italic*, **bold**, etc. by double clicking on a markdown cell to see the raw text. There are also guides online like this [guide to Jupyter markdown](https://medium.com/@ingeh/markdown-for-jupyter-notebooks-cheatsheet-386c05aeebed)."
   ]
  },
  {
   "cell_type": "code",
   "execution_count": 13,
   "metadata": {},
   "outputs": [
    {
     "name": "stdout",
     "output_type": "stream",
     "text": [
      "5\n"
     ]
    }
   ],
   "source": [
    "x=5\n",
    "print(x)"
   ]
  },
  {
   "cell_type": "code",
   "execution_count": 14,
   "metadata": {},
   "outputs": [
    {
     "name": "stdout",
     "output_type": "stream",
     "text": [
      "The current value of x is 5.\n"
     ]
    }
   ],
   "source": [
    "# A couple of notes here:\n",
    "# 1. You can make notes in code blocks using the # before the note text\n",
    "# 2. I am using the relatively new Python 'f-string' string formatting (v3.6 and above) in these examples.\n",
    "print(f'The current value of x is {x}.')"
   ]
  },
  {
   "cell_type": "code",
   "execution_count": 15,
   "metadata": {},
   "outputs": [
    {
     "name": "stdout",
     "output_type": "stream",
     "text": [
      "10\n"
     ]
    }
   ],
   "source": [
    "y=x*2\n",
    "print(y)"
   ]
  },
  {
   "cell_type": "code",
   "execution_count": 16,
   "metadata": {},
   "outputs": [
    {
     "name": "stdout",
     "output_type": "stream",
     "text": [
      "Hi Weimin!\n"
     ]
    }
   ],
   "source": [
    "name = 'Weimin'\n",
    "print(f'Hi {name}!')"
   ]
  },
  {
   "cell_type": "code",
   "execution_count": 17,
   "metadata": {},
   "outputs": [
    {
     "name": "stdout",
     "output_type": "stream",
     "text": [
      "6\n"
     ]
    }
   ],
   "source": [
    "print(len(name))"
   ]
  },
  {
   "cell_type": "markdown",
   "metadata": {},
   "source": [
    "## Help and Documentation\n",
    "![PDSH Cover](images/PDSH-cover-small.png)\n",
    "[PDSH chapter 1](https://jakevdp.github.io/PythonDataScienceHandbook/01.00-ipython-beyond-normal-python.html) uses the Jupyter shell for some reason, but the tools covered all work in Jupyter Notebooks.\n",
    "\n",
    "Coding should, in my opinion, never be about memorizing things, but about learning general concepts and how to find help. Jupyter offers great built-in help for your coding.\n",
    "\n",
    "### Accessing Documentation with `?`\n",
    "\n",
    "For example, you might remember that there is a `len` function to get the length of a veriable, but can't quite remember the details of how to use it. `len?` will help."
   ]
  },
  {
   "cell_type": "code",
   "execution_count": 18,
   "metadata": {},
   "outputs": [
    {
     "name": "stdout",
     "output_type": "stream",
     "text": [
      "\u001b[0;31mSignature:\u001b[0m \u001b[0mlen\u001b[0m\u001b[0;34m(\u001b[0m\u001b[0mobj\u001b[0m\u001b[0;34m,\u001b[0m \u001b[0;34m/\u001b[0m\u001b[0;34m)\u001b[0m\u001b[0;34m\u001b[0m\u001b[0;34m\u001b[0m\u001b[0m\n",
      "\u001b[0;31mDocstring:\u001b[0m Return the number of items in a container.\n",
      "\u001b[0;31mType:\u001b[0m      builtin_function_or_method"
     ]
    }
   ],
   "source": [
    "len?"
   ]
  },
  {
   "cell_type": "markdown",
   "metadata": {},
   "source": [
    "Continuing with the PDSH examples, imagine we have a list L with the elements 1, 2, 3 and can't quite remember how to add a new element"
   ]
  },
  {
   "cell_type": "code",
   "execution_count": 19,
   "metadata": {},
   "outputs": [
    {
     "name": "stdout",
     "output_type": "stream",
     "text": [
      "\u001b[0;31mSignature:\u001b[0m \u001b[0mL\u001b[0m\u001b[0;34m.\u001b[0m\u001b[0minsert\u001b[0m\u001b[0;34m(\u001b[0m\u001b[0mindex\u001b[0m\u001b[0;34m,\u001b[0m \u001b[0mobject\u001b[0m\u001b[0;34m,\u001b[0m \u001b[0;34m/\u001b[0m\u001b[0;34m)\u001b[0m\u001b[0;34m\u001b[0m\u001b[0;34m\u001b[0m\u001b[0m\n",
      "\u001b[0;31mDocstring:\u001b[0m Insert object before index.\n",
      "\u001b[0;31mType:\u001b[0m      builtin_function_or_method"
     ]
    }
   ],
   "source": [
    "L = [1,2,3]\n",
    "L.insert?"
   ]
  },
  {
   "cell_type": "markdown",
   "metadata": {},
   "source": [
    "We can also get information about our list L"
   ]
  },
  {
   "cell_type": "code",
   "execution_count": 20,
   "metadata": {},
   "outputs": [
    {
     "name": "stdout",
     "output_type": "stream",
     "text": [
      "\u001b[0;31mType:\u001b[0m        list\n",
      "\u001b[0;31mString form:\u001b[0m [1, 2, 3]\n",
      "\u001b[0;31mLength:\u001b[0m      3\n",
      "\u001b[0;31mDocstring:\u001b[0m  \n",
      "Built-in mutable sequence.\n",
      "\n",
      "If no argument is given, the constructor creates a new empty list.\n",
      "The argument must be an iterable if specified."
     ]
    }
   ],
   "source": [
    "L?"
   ]
  },
  {
   "cell_type": "markdown",
   "metadata": {},
   "source": [
    "As note in PDSH, this works for functions and objects you create. We will come back to reviewing functions later, but for now, here's a function definition for the square function that takes a value and returns the square of that value."
   ]
  },
  {
   "cell_type": "code",
   "execution_count": 21,
   "metadata": {},
   "outputs": [],
   "source": [
    "def square(a):\n",
    "    '''Return the square of a.'''\n",
    "    return a**2\n",
    "    "
   ]
  },
  {
   "cell_type": "code",
   "execution_count": 22,
   "metadata": {},
   "outputs": [
    {
     "name": "stdout",
     "output_type": "stream",
     "text": [
      "\u001b[0;31mSignature:\u001b[0m \u001b[0msquare\u001b[0m\u001b[0;34m(\u001b[0m\u001b[0ma\u001b[0m\u001b[0;34m)\u001b[0m\u001b[0;34m\u001b[0m\u001b[0;34m\u001b[0m\u001b[0m\n",
      "\u001b[0;31mDocstring:\u001b[0m Return the square of a.\n",
      "\u001b[0;31mFile:\u001b[0m      /tmp/ipykernel_7274/794390935.py\n",
      "\u001b[0;31mType:\u001b[0m      function"
     ]
    }
   ],
   "source": [
    "square?"
   ]
  },
  {
   "cell_type": "markdown",
   "metadata": {},
   "source": [
    "The information in the triple quoted \"docstring\" is what is returned with the `?` operator. **As you write functions, this is a great place to put information about what the function does and how to use it.** As you start using functions, remember that this tool is there to provide help!"
   ]
  },
  {
   "cell_type": "markdown",
   "metadata": {},
   "source": [
    "## Accessing Source Code with `??`\n",
    "\n",
    "Sometimes reading through the code of a function can make it easier to understand how to use it correctly. The `??` operator not only gives the docstring information, but also the code of the function."
   ]
  },
  {
   "cell_type": "code",
   "execution_count": 23,
   "metadata": {},
   "outputs": [
    {
     "name": "stdout",
     "output_type": "stream",
     "text": [
      "\u001b[0;31mSignature:\u001b[0m \u001b[0msquare\u001b[0m\u001b[0;34m(\u001b[0m\u001b[0ma\u001b[0m\u001b[0;34m)\u001b[0m\u001b[0;34m\u001b[0m\u001b[0;34m\u001b[0m\u001b[0m\n",
      "\u001b[0;31mSource:\u001b[0m   \n",
      "\u001b[0;32mdef\u001b[0m \u001b[0msquare\u001b[0m\u001b[0;34m(\u001b[0m\u001b[0ma\u001b[0m\u001b[0;34m)\u001b[0m\u001b[0;34m:\u001b[0m\u001b[0;34m\u001b[0m\n",
      "\u001b[0;34m\u001b[0m    \u001b[0;34m'''Return the square of a.'''\u001b[0m\u001b[0;34m\u001b[0m\n",
      "\u001b[0;34m\u001b[0m    \u001b[0;32mreturn\u001b[0m \u001b[0ma\u001b[0m\u001b[0;34m**\u001b[0m\u001b[0;36m2\u001b[0m\u001b[0;34m\u001b[0m\u001b[0;34m\u001b[0m\u001b[0m\n",
      "\u001b[0;31mFile:\u001b[0m      /tmp/ipykernel_7274/794390935.py\n",
      "\u001b[0;31mType:\u001b[0m      function"
     ]
    }
   ],
   "source": [
    "square??"
   ]
  },
  {
   "cell_type": "markdown",
   "metadata": {},
   "source": [
    "This doesn't work for everything as many Python functions are actually implimented in C (a compiled programming language) and can't be displayed. "
   ]
  },
  {
   "cell_type": "markdown",
   "metadata": {},
   "source": [
    "## Eploring Modules with Tab-Completion\n",
    "\n",
    "Another handy feature of Jupyter is tab-completion. Kind of like navigating a path in Bash, tab completion will show possible options and complete unique selections. Remember our list L from above, what can we do to it? "
   ]
  },
  {
   "cell_type": "code",
   "execution_count": 24,
   "metadata": {},
   "outputs": [
    {
     "ename": "SyntaxError",
     "evalue": "invalid syntax (3399076706.py, line 1)",
     "output_type": "error",
     "traceback": [
      "\u001b[0;36m  Cell \u001b[0;32mIn[24], line 1\u001b[0;36m\u001b[0m\n\u001b[0;31m    L.\u001b[0m\n\u001b[0m      ^\u001b[0m\n\u001b[0;31mSyntaxError\u001b[0m\u001b[0;31m:\u001b[0m invalid syntax\n"
     ]
    }
   ],
   "source": [
    "L."
   ]
  },
  {
   "cell_type": "markdown",
   "metadata": {},
   "source": [
    "### Beyond tab completion: Wildcard matching\n",
    "\n",
    "This may be more than we need, but we'll take a quick look. The `*` character can be used for \"wildcard\" matching.\n",
    "\n",
    "For example, we can get all objects that end in `Warning` using: "
   ]
  },
  {
   "cell_type": "code",
   "execution_count": 25,
   "metadata": {},
   "outputs": [
    {
     "name": "stdout",
     "output_type": "stream",
     "text": [
      "BytesWarning\n",
      "DeprecationWarning\n",
      "EncodingWarning\n",
      "FutureWarning\n",
      "ImportWarning\n",
      "PendingDeprecationWarning\n",
      "ResourceWarning\n",
      "RuntimeWarning\n",
      "SyntaxWarning\n",
      "UnicodeWarning\n",
      "UserWarning\n",
      "Warning"
     ]
    }
   ],
   "source": [
    "*Warning?"
   ]
  },
  {
   "cell_type": "markdown",
   "metadata": {},
   "source": [
    "Similarly, we might know we want some kinf of `find` but can't remember if there are multiple find options..."
   ]
  },
  {
   "cell_type": "code",
   "execution_count": 26,
   "metadata": {},
   "outputs": [
    {
     "name": "stdout",
     "output_type": "stream",
     "text": [
      "str.find\n",
      "str.rfind"
     ]
    }
   ],
   "source": [
    "str.*find*?"
   ]
  },
  {
   "cell_type": "markdown",
   "metadata": {},
   "source": [
    "And then we could see what `rfind` does..."
   ]
  },
  {
   "cell_type": "code",
   "execution_count": 28,
   "metadata": {},
   "outputs": [
    {
     "name": "stdout",
     "output_type": "stream",
     "text": [
      "\u001b[0;31mDocstring:\u001b[0m\n",
      "S.rfind(sub[, start[, end]]) -> int\n",
      "\n",
      "Return the highest index in S where substring sub is found,\n",
      "such that sub is contained within S[start:end].  Optional\n",
      "arguments start and end are interpreted as in slice notation.\n",
      "\n",
      "Return -1 on failure.\n",
      "\u001b[0;31mType:\u001b[0m      method_descriptor"
     ]
    }
   ],
   "source": [
    "str.rfind?"
   ]
  },
  {
   "cell_type": "markdown",
   "metadata": {},
   "source": [
    "# Jupyter Magic commands:`%`\n",
    "\n",
    "## Running External Code: `%run`\n",
    "\n",
    "Sometimes you may have some code in a script and some in notebooks. You do not need to copy the script code into the notebook to run it. You can run the script with `%run`.\n",
    "\n",
    "For example, there is a script in the script:\n",
    "\n",
    "```python\n",
    "#!/usr/bin/env python\n",
    "\n",
    "# file: myscript.py\n",
    "# Modified from Jake VanderPlas Python Data Science Handbook\n",
    "\n",
    "def square(x):\n",
    "    \"\"\"square a number\"\"\"\n",
    "    return x ** 2\n",
    "\n",
    "for N in range(1, 4):\n",
    "    print(f\"{N} squared is {square(N)}\")\n",
    "```"
   ]
  },
  {
   "cell_type": "code",
   "execution_count": 29,
   "metadata": {},
   "outputs": [
    {
     "name": "stdout",
     "output_type": "stream",
     "text": [
      "1 squared is 1\n",
      "2 squared is 4\n",
      "3 squared is 9\n"
     ]
    }
   ],
   "source": [
    "%run scripts/myscript.py"
   ]
  },
  {
   "cell_type": "markdown",
   "metadata": {},
   "source": [
    "## More magic\n",
    "\n",
    "The text goes on to describe several more magic commands that may be helpful, but ones that I use less frequently and won't spend time on now.\n",
    "\n",
    "# A Quick Introduction to the Shell\n",
    "\n",
    "If you don't have much experience with the Bash command line, you should look over this section. We won't need to use the shell a lot this semester, but will likely need some basic understanding at some point.\n",
    "\n",
    "## Shell Commands in Jupyter\n",
    "\n",
    "Using the `!` in a Jupyter cell, you can execute shell commands. "
   ]
  },
  {
   "cell_type": "code",
   "execution_count": 30,
   "metadata": {},
   "outputs": [
    {
     "name": "stdout",
     "output_type": "stream",
     "text": [
      "/workspaces/Jupyter_Content\n",
      "01_Intro_to_Jupyter.ipynb\n",
      "02_2_Coding_Assistants_Tutorial.ipynb\n",
      "02_Intro_to_Python_Student.ipynb\n",
      "03_Intro_to_Numpy_Student.ipynb\n",
      "04_Intro_to_Pandas_student.ipynb\n",
      "05_Pandas_data_vis.ipynb\n",
      "06_Python_data_visualization.ipynb\n",
      "07_Intro_sklearn_student.ipynb\n",
      "08_Bias_variance_tradeoff_student.ipynb\n",
      "09_linreg_regularization_student.ipynb\n",
      "10_Classification_student.ipynb\n",
      "11_SupportVectorMachines_student.ipynb\n",
      "12_Decision_Trees.ipynb\n",
      "13_2_Intro_clustering_student.ipynb\n",
      "13_Ensemble_methods.ipynb\n",
      "14_neural_nets-intro.ipynb\n",
      "15_neural_networks.ipynb\n",
      "16_CNNs_part1.ipynb\n",
      "17_CNNs_part2.ipynb\n",
      "18_2_Generative_AI.ipynb\n",
      "18_Transfer_Learning.ipynb\n",
      "19_Natural_Language_Processing.ipynb\n",
      "20_NLP_Transformers.ipynb\n",
      "21_Vision_Transformers.ipynb\n",
      "21b_vit-fine-tuning.ipynb\n",
      "21c_Vision_transformers.ipynb\n",
      "22_multi-modal-ai.ipynb\n",
      "LICENSE\n",
      "README.md\n",
      "ZZ_older_notebooks\n",
      "data\n",
      "helpers_05_08.py\n",
      "helpers_plot_history.py\n",
      "image_classification_explained.ipynb\n",
      "images\n",
      "kernels\n",
      "scripts\n",
      "snippets\n",
      "stacking_paper.ipynb\n",
      "teach_02_2_Coding_Assistants_Tutorial.ipynb\n",
      "teach_02_Intro_to_Python.ipynb\n",
      "teach_03_Intro_to_Numpy.ipynb\n",
      "teach_04_Intro_to_Pandas.ipynb\n",
      "teach_06_Python_data_visualization.ipynb\n",
      "teach_07_Intro_sklearn.ipynb\n",
      "teach_08_Bias_variance_tradeoff.ipynb\n",
      "teach_09_linreg_regularization.ipynb\n",
      "teach_10_Classification.ipynb\n",
      "teach_11_SupportVectorMachines.ipynb\n",
      "teach_13_2_Intro_to_clustering.ipynb\n",
      "teach_14_neural_nets-intro.ipynb\n",
      "teach_15_neural_networks.ipynb\n",
      "teach_16_CNNs_part1.ipynb\n",
      "teach_17_CNNs_part2.ipynb\n",
      "teach_18_Transfer_Learning.ipynb\n"
     ]
    }
   ],
   "source": [
    "# Note the output below is from running on a Windows computer.\n",
    "\n",
    "!pwd\n",
    "!ls"
   ]
  },
  {
   "cell_type": "markdown",
   "metadata": {},
   "source": [
    "# Timing Code Snippets\n",
    "\n",
    "We may get to the point where timing code become important. AI can be very computationally demanding, if one method is 1,000 times faster, that can mean the difference between something you can do and something you can't.\n",
    "\n",
    "There are two main Jupyter magic commands, `%timeit` (times a single line) and `%%timeit` (times a cell)"
   ]
  },
  {
   "cell_type": "code",
   "execution_count": 31,
   "metadata": {},
   "outputs": [
    {
     "name": "stdout",
     "output_type": "stream",
     "text": [
      "810 ns ± 160 ns per loop (mean ± std. dev. of 7 runs, 1,000,000 loops each)\n"
     ]
    }
   ],
   "source": [
    "%timeit sum(range(100))"
   ]
  },
  {
   "cell_type": "code",
   "execution_count": 32,
   "metadata": {},
   "outputs": [
    {
     "name": "stdout",
     "output_type": "stream",
     "text": [
      "154 ms ± 19.5 ms per loop (mean ± std. dev. of 7 runs, 10 loops each)\n"
     ]
    }
   ],
   "source": [
    "%%timeit\n",
    "\n",
    "total = 0\n",
    "for i in range(1000):\n",
    "    for j in range(1000):\n",
    "        total += i * (-1) ** j"
   ]
  },
  {
   "cell_type": "code",
   "execution_count": null,
   "metadata": {},
   "outputs": [],
   "source": []
  }
 ],
 "metadata": {
  "kernelspec": {
   "display_name": "Python 3",
   "language": "python",
   "name": "python3"
  },
  "language_info": {
   "codemirror_mode": {
    "name": "ipython",
    "version": 3
   },
   "file_extension": ".py",
   "mimetype": "text/x-python",
   "name": "python",
   "nbconvert_exporter": "python",
   "pygments_lexer": "ipython3",
   "version": "3.12.1"
  }
 },
 "nbformat": 4,
 "nbformat_minor": 4
}
